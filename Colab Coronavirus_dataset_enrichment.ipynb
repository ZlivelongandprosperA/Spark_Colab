{
  "nbformat": 4,
  "nbformat_minor": 0,
  "metadata": {
    "colab": {
      "name": "Coronavirus dataset enrichment.ipynb",
      "provenance": []
    },
    "kernelspec": {
      "name": "python3",
      "display_name": "Python 3"
    }
  },
  "cells": [
    {
      "cell_type": "markdown",
      "metadata": {
        "id": "mBQ9rcFkZaaF"
      },
      "source": [
        "![Model Training](https://drive.google.com/uc?id=17cUxpbL2eonLzgY0uIVAxmsfMfQF1by2)"
      ]
    },
    {
      "cell_type": "code",
      "metadata": {
        "id": "lNxJfjPCLO-T"
      },
      "source": [
        "from google.colab import drive\n",
        "drive.mount('/content/drive')"
      ],
      "execution_count": null,
      "outputs": []
    },
    {
      "cell_type": "code",
      "metadata": {
        "id": "vclrTo1rLV0t"
      },
      "source": [
        "!ls '/content/drive/My Drive/Colab Notebooks/twitter.properties'"
      ],
      "execution_count": null,
      "outputs": []
    },
    {
      "cell_type": "code",
      "metadata": {
        "id": "6wF2auF-MpVp"
      },
      "source": [
        "!pip install ConfigParser"
      ],
      "execution_count": null,
      "outputs": []
    },
    {
      "cell_type": "markdown",
      "metadata": {
        "id": "b-PiMClfrxDu"
      },
      "source": [
        "[twitter]\n",
        "accesstoken=xxxx\n",
        "\n",
        "accesstokensecret=xxxx\n",
        "\n",
        "apikey=xxxxxx\n",
        "\n",
        "apisecretkey=xxxxxx\n",
        "\n",
        "googleapikey=xxxxxxx"
      ]
    },
    {
      "cell_type": "code",
      "metadata": {
        "id": "bUTImyaELjg1"
      },
      "source": [
        "import pandas as pd\n",
        "import configparser\n",
        "config = configparser.RawConfigParser()\n",
        "config.read('/content/drive/My Drive/Colab Notebooks/twitter.properties')\n",
        "\n",
        "print(config.sections());\n"
      ],
      "execution_count": null,
      "outputs": []
    },
    {
      "cell_type": "code",
      "metadata": {
        "id": "cDLW8AUKxdo9"
      },
      "source": [
        "corona_confirmed_df = pd.read_csv('https://raw.githubusercontent.com/CSSEGISandData/COVID-19/master/csse_covid_19_data/csse_covid_19_time_series/time_series_19-covid-Confirmed.csv')"
      ],
      "execution_count": null,
      "outputs": []
    },
    {
      "cell_type": "code",
      "metadata": {
        "id": "qEL1RFFhx7fj"
      },
      "source": [
        "corona_confirmed_df.head()"
      ],
      "execution_count": null,
      "outputs": []
    },
    {
      "cell_type": "code",
      "metadata": {
        "id": "8QlDkDrhvyrS"
      },
      "source": [
        "corona_death_df = pd.read_csv('https://raw.githubusercontent.com/CSSEGISandData/COVID-19/master/csse_covid_19_data/csse_covid_19_time_series/time_series_19-covid-Deaths.csv')"
      ],
      "execution_count": null,
      "outputs": []
    },
    {
      "cell_type": "code",
      "metadata": {
        "id": "UTfIVXgRwBzJ"
      },
      "source": [
        "corona_death_df.head()"
      ],
      "execution_count": null,
      "outputs": []
    },
    {
      "cell_type": "code",
      "metadata": {
        "id": "Zp_2vjdA70lw"
      },
      "source": [
        "corona_recovered_df = pd.read_csv('https://raw.githubusercontent.com/CSSEGISandData/COVID-19/master/csse_covid_19_data/csse_covid_19_time_series/time_series_19-covid-Recovered.csv')"
      ],
      "execution_count": null,
      "outputs": []
    },
    {
      "cell_type": "code",
      "metadata": {
        "id": "VWw1MPkA77Ls"
      },
      "source": [
        "corona_recovered_df.head()"
      ],
      "execution_count": null,
      "outputs": []
    },
    {
      "cell_type": "code",
      "metadata": {
        "id": "4RdVXNp7wD2p"
      },
      "source": [
        "corona_confirmed_df=corona_confirmed_df.melt(id_vars=['Province/State','Country/Region','Lat','Long'])"
      ],
      "execution_count": null,
      "outputs": []
    },
    {
      "cell_type": "code",
      "metadata": {
        "id": "E_PVdt7x6HQu"
      },
      "source": [
        "corona_confirmed_df.head()"
      ],
      "execution_count": null,
      "outputs": []
    },
    {
      "cell_type": "code",
      "metadata": {
        "id": "oubwC4bJ4aLO"
      },
      "source": [
        "corona_confirmed_df=corona_confirmed_df.rename({'variable':'Date','value': 'Confirmed'}, axis='columns')"
      ],
      "execution_count": null,
      "outputs": []
    },
    {
      "cell_type": "code",
      "metadata": {
        "id": "VGH0hpI47oe6"
      },
      "source": [
        "corona_confirmed_df.head()"
      ],
      "execution_count": null,
      "outputs": []
    },
    {
      "cell_type": "code",
      "metadata": {
        "id": "CoUZXyrm7t3o"
      },
      "source": [
        "corona_death_df=corona_death_df.melt(id_vars=['Province/State','Country/Region','Lat','Long'])"
      ],
      "execution_count": null,
      "outputs": []
    },
    {
      "cell_type": "code",
      "metadata": {
        "id": "zyAf83_zCza2"
      },
      "source": [
        "corona_death_df=corona_death_df.rename({'variable':'Date','value': 'Death'}, axis='columns')"
      ],
      "execution_count": null,
      "outputs": []
    },
    {
      "cell_type": "code",
      "metadata": {
        "id": "O5x1c_Y1C5bS"
      },
      "source": [
        "corona_death_df.head()"
      ],
      "execution_count": null,
      "outputs": []
    },
    {
      "cell_type": "code",
      "metadata": {
        "id": "yYYbeKU99WMy"
      },
      "source": [
        "corona_recovered_df=corona_recovered_df.melt(id_vars=['Province/State','Country/Region','Lat','Long']).rename({'variable':'Date','value': 'Recovered'}, axis='columns')"
      ],
      "execution_count": null,
      "outputs": []
    },
    {
      "cell_type": "code",
      "metadata": {
        "id": "uOBI9p0397sF"
      },
      "source": [
        "corona_recovered_df.head()"
      ],
      "execution_count": null,
      "outputs": []
    },
    {
      "cell_type": "code",
      "metadata": {
        "id": "tIm2uApT9_GF"
      },
      "source": [
        "combined_df = [corona_confirmed_df, corona_death_df, corona_recovered_df]\n",
        "combined_df = [df.set_index(['Province/State','Country/Region','Lat','Long','Date']) for df in combined_df]\n",
        "combined_df=combined_df[0].join(combined_df[1:])"
      ],
      "execution_count": null,
      "outputs": []
    },
    {
      "cell_type": "code",
      "metadata": {
        "id": "SLpneDMG_XK4"
      },
      "source": [
        "combined_df.head()"
      ],
      "execution_count": null,
      "outputs": []
    },
    {
      "cell_type": "code",
      "metadata": {
        "id": "lW0As0oq_30i"
      },
      "source": [
        "combined_df=combined_df.reset_index()"
      ],
      "execution_count": null,
      "outputs": []
    },
    {
      "cell_type": "code",
      "metadata": {
        "id": "z0GQZCGqAKPA"
      },
      "source": [
        "combined_df.head()"
      ],
      "execution_count": null,
      "outputs": []
    },
    {
      "cell_type": "code",
      "metadata": {
        "id": "25DTI342AQ97"
      },
      "source": [
        "combined_df[['Lat', 'Long','Confirmed','Death','Recovered']] = combined_df[['Lat', 'Long','Confirmed','Death','Recovered']].apply(pd.to_numeric) "
      ],
      "execution_count": null,
      "outputs": []
    },
    {
      "cell_type": "code",
      "metadata": {
        "id": "3vxX9-SOF93f"
      },
      "source": [
        "combined_df[['Date']] = combined_df[['Date']].apply(pd.to_datetime)"
      ],
      "execution_count": null,
      "outputs": []
    },
    {
      "cell_type": "code",
      "metadata": {
        "id": "1kxSjq8JF2vs"
      },
      "source": [
        "combined_df.dtypes"
      ],
      "execution_count": null,
      "outputs": []
    },
    {
      "cell_type": "code",
      "metadata": {
        "id": "UuH48Ja1F772"
      },
      "source": [
        "combined_df.head()"
      ],
      "execution_count": null,
      "outputs": []
    },
    {
      "cell_type": "code",
      "metadata": {
        "id": "AxuGr9qCh1Vg"
      },
      "source": [
        "\n",
        "combined_df=combined_df.rename({'Province/State':'State','Country/Region': 'Country'}, axis='columns')"
      ],
      "execution_count": null,
      "outputs": []
    },
    {
      "cell_type": "code",
      "metadata": {
        "id": "aYwQc56Hh9u7"
      },
      "source": [
        "combined_df.head()"
      ],
      "execution_count": null,
      "outputs": []
    },
    {
      "cell_type": "code",
      "metadata": {
        "id": "Njq_qzwc9WHJ"
      },
      "source": [
        "combined_df.isnull().any()"
      ],
      "execution_count": null,
      "outputs": []
    },
    {
      "cell_type": "code",
      "metadata": {
        "id": "YQXsoF-s_fTY"
      },
      "source": [
        "combined_df.count()"
      ],
      "execution_count": null,
      "outputs": []
    },
    {
      "cell_type": "code",
      "metadata": {
        "id": "nT71HaeIhQT4"
      },
      "source": [
        "combined_df.set_index('Country').filter(like=\"India\", axis=0)"
      ],
      "execution_count": null,
      "outputs": []
    },
    {
      "cell_type": "code",
      "metadata": {
        "id": "Bd7RKSvIqUpz"
      },
      "source": [
        "combined_df[combined_df.State.isnull()]['Country'].value_counts()"
      ],
      "execution_count": null,
      "outputs": []
    },
    {
      "cell_type": "code",
      "metadata": {
        "id": "mGnl1yck8c2x"
      },
      "source": [
        "!pip install -U googlemaps"
      ],
      "execution_count": null,
      "outputs": []
    },
    {
      "cell_type": "code",
      "metadata": {
        "id": "NQNnE6qD8jO0"
      },
      "source": [
        "import googlemaps"
      ],
      "execution_count": null,
      "outputs": []
    },
    {
      "cell_type": "code",
      "metadata": {
        "id": "8LQKyPwp8jId"
      },
      "source": [
        "gmaps = googlemaps.Client(key=config.get('twitter', 'googleapikey'))\n",
        "\n",
        "geocode_result = gmaps.reverse_geocode((-23.4425, -58.4438))\n",
        "\n",
        "print(geocode_result[0])\n",
        "print(geocode_result[0]['formatted_address'])\n",
        "print(geocode_result[0]['formatted_address'].split(\",\")[-2].strip(\" \"))"
      ],
      "execution_count": null,
      "outputs": []
    },
    {
      "cell_type": "code",
      "metadata": {
        "id": "3kowHK_g1jLK"
      },
      "source": [
        "import re\n",
        "\n",
        "english_check = re.compile(r'[a-z]')\n",
        "\n",
        "def get_state(lat, longi):\n",
        "  try:\n",
        "    output=gmaps.reverse_geocode((lat, longi))[0]['formatted_address'].split(\",\")[-2].strip()\n",
        "    if(len(output.split(\" \")) > 1):\n",
        "      output=\"TBF\"\n",
        "\n",
        "    if not english_check.match(output.lower()):\n",
        "      output=\"TBF\"\n",
        "    \n",
        "  except:\n",
        "    print(\"Error in Reverse Geocoding\")\n",
        "    output=\"TBF\"\n",
        "  return output"
      ],
      "execution_count": null,
      "outputs": []
    },
    {
      "cell_type": "code",
      "metadata": {
        "id": "B7TglxHs8i19"
      },
      "source": [
        "combined_df[\"state_cleaned\"]=combined_df[combined_df.State.isnull()][['Lat','Long']].apply(lambda x : get_state(x['Lat'], x['Long']),axis=1)\n"
      ],
      "execution_count": null,
      "outputs": []
    },
    {
      "cell_type": "code",
      "metadata": {
        "id": "bkND_acm3bA8"
      },
      "source": [
        "combined_df[combined_df.state_cleaned.isnull()]['Country'].value_counts()"
      ],
      "execution_count": null,
      "outputs": []
    },
    {
      "cell_type": "code",
      "metadata": {
        "id": "yAQ8lVTCBY66"
      },
      "source": [
        "combined_int_df = combined_df.copy()"
      ],
      "execution_count": null,
      "outputs": []
    },
    {
      "cell_type": "code",
      "metadata": {
        "id": "dMO9UZ00GNKV"
      },
      "source": [
        "combined_df[combined_df.state_cleaned.notna()]"
      ],
      "execution_count": null,
      "outputs": []
    },
    {
      "cell_type": "code",
      "metadata": {
        "id": "2BQmlzVlJbrO"
      },
      "source": [
        "combined_int_df.count()"
      ],
      "execution_count": null,
      "outputs": []
    },
    {
      "cell_type": "code",
      "metadata": {
        "id": "lRau9hiMIHvs"
      },
      "source": [
        "combined_int_df[combined_int_df.State.notna()]"
      ],
      "execution_count": null,
      "outputs": []
    },
    {
      "cell_type": "code",
      "metadata": {
        "id": "1k2ZwiOxJ1wW"
      },
      "source": [
        "combined_int_df[combined_int_df.State.notna()][\"State\"].count()"
      ],
      "execution_count": null,
      "outputs": []
    },
    {
      "cell_type": "code",
      "metadata": {
        "id": "k8g6QoujDKFO"
      },
      "source": [
        "import numpy\n",
        "combined_int_df[\"state_cleaned\"]=combined_int_df.apply(lambda x: x['State'] if (numpy.all(pd.notnull(x['State']))) else x['state_cleaned'], axis=1)"
      ],
      "execution_count": null,
      "outputs": []
    },
    {
      "cell_type": "code",
      "metadata": {
        "id": "u5vlUIcyE23W"
      },
      "source": [
        "combined_int_df[combined_int_df.State.notna()]"
      ],
      "execution_count": null,
      "outputs": []
    },
    {
      "cell_type": "code",
      "metadata": {
        "id": "bt5weSwrKGcq"
      },
      "source": [
        "combined_int_df[combined_df.state_cleaned==\"TBF\"]"
      ],
      "execution_count": null,
      "outputs": []
    },
    {
      "cell_type": "code",
      "metadata": {
        "id": "RAwFrMom9cz-"
      },
      "source": [
        "combined_int_df[combined_int_df.state_cleaned == \"TBF\"]['Country'].value_counts()"
      ],
      "execution_count": null,
      "outputs": []
    },
    {
      "cell_type": "code",
      "metadata": {
        "id": "Kb0lpUPK9cyw"
      },
      "source": [
        "combined_int_df.head(50)"
      ],
      "execution_count": null,
      "outputs": []
    },
    {
      "cell_type": "code",
      "metadata": {
        "id": "lRmcAQz-9cdM"
      },
      "source": [
        "capital_df = pd.read_csv('https://raw.githubusercontent.com/icyrockcom/country-capitals/master/data/country-list.csv')"
      ],
      "execution_count": null,
      "outputs": []
    },
    {
      "cell_type": "code",
      "metadata": {
        "id": "1NLNx2sMB6oF"
      },
      "source": [
        "capital_df.head()"
      ],
      "execution_count": null,
      "outputs": []
    },
    {
      "cell_type": "code",
      "metadata": {
        "id": "dJmvjBAXxQeS"
      },
      "source": [
        "capital_df['country'].replace({\"United Kingdom; England\": \"United Kingdom\"}, inplace=True)"
      ],
      "execution_count": null,
      "outputs": []
    },
    {
      "cell_type": "code",
      "metadata": {
        "id": "USz2_UxkZ-Ca"
      },
      "source": [
        "capital_df['country']=capital_df.country.str.lower()"
      ],
      "execution_count": null,
      "outputs": []
    },
    {
      "cell_type": "code",
      "metadata": {
        "id": "AEO44xjR9cX9"
      },
      "source": [
        "capital_df.head()"
      ],
      "execution_count": null,
      "outputs": []
    },
    {
      "cell_type": "code",
      "metadata": {
        "id": "o8zQCox3eRgP"
      },
      "source": [
        "capital_df=capital_df.set_index('country')"
      ],
      "execution_count": null,
      "outputs": []
    },
    {
      "cell_type": "code",
      "metadata": {
        "id": "UQPk6uUvZfbG"
      },
      "source": [
        "capital_df.loc['algeria'][0]"
      ],
      "execution_count": null,
      "outputs": []
    },
    {
      "cell_type": "code",
      "metadata": {
        "id": "esPtNA959cOg"
      },
      "source": [
        "combined_int_df[combined_int_df.state_cleaned == \"TBF\"]"
      ],
      "execution_count": null,
      "outputs": []
    },
    {
      "cell_type": "code",
      "metadata": {
        "id": "5kQEFzRh9cJE"
      },
      "source": [
        "def lookup_capital(country):\n",
        "  try:\n",
        "    capital=capital_df.loc[country.lower()][0]\n",
        "  except:\n",
        "    capital=\"TBF\"\n",
        "  return capital  "
      ],
      "execution_count": null,
      "outputs": []
    },
    {
      "cell_type": "code",
      "metadata": {
        "id": "Vtd9wiPr9b78"
      },
      "source": [
        "combined_int_df.apply(lambda x: lookup_capital(x['Country']) if (x['state_cleaned']==\"TBF\") else x['state_cleaned'], axis=1)"
      ],
      "execution_count": null,
      "outputs": []
    },
    {
      "cell_type": "code",
      "metadata": {
        "id": "r5sVBFNxUbSC"
      },
      "source": [
        "combined_int_df['state_cleaned']=combined_int_df.apply(lambda x: lookup_capital(x['Country']) if (x['state_cleaned']==\"TBF\") else x['state_cleaned'], axis=1)"
      ],
      "execution_count": null,
      "outputs": []
    },
    {
      "cell_type": "code",
      "metadata": {
        "id": "jl_NVUY0UbOP"
      },
      "source": [
        "combined_int_df[combined_int_df.state_cleaned == \"TBF\"]['Country'].value_counts()"
      ],
      "execution_count": null,
      "outputs": []
    },
    {
      "cell_type": "code",
      "metadata": {
        "id": "iZB-gcvPqHDU"
      },
      "source": [
        "combined_int_df[\"Country\"].replace({\"Republic of Moldova\": \"Moldova\", \"Holy See\": \"Vatican City\", \"UK\": \"United Kingdom\",\"Viet Nam\":\"Vietnam\",\"Iran (Islamic Republic of)\":\"Iran\"}, inplace=True)"
      ],
      "execution_count": null,
      "outputs": []
    },
    {
      "cell_type": "code",
      "metadata": {
        "id": "tfcmRK5evlAc"
      },
      "source": [
        "combined_int_df[combined_int_df.state_cleaned == \"TBF\"]['Country'].value_counts()"
      ],
      "execution_count": null,
      "outputs": []
    },
    {
      "cell_type": "code",
      "metadata": {
        "id": "yym-UtbHUbAV"
      },
      "source": [
        "combined_int_df['state_cleaned']=combined_int_df.apply(lambda x: lookup_capital(x['Country']) if (x['state_cleaned']==\"TBF\") else x['state_cleaned'], axis=1)"
      ],
      "execution_count": null,
      "outputs": []
    },
    {
      "cell_type": "code",
      "metadata": {
        "id": "X1VMTJ10kM3U"
      },
      "source": [
        "combined_int_df[combined_int_df.state_cleaned == \"TBF\"]['Country'].value_counts()"
      ],
      "execution_count": null,
      "outputs": []
    },
    {
      "cell_type": "code",
      "metadata": {
        "id": "6uE4DpvjkM0I"
      },
      "source": [
        "combined_int_df[\"state_cleaned\"]=combined_int_df.apply(lambda x: x['Country'] if (x['state_cleaned']==\"TBF\") else x['state_cleaned'], axis=1)"
      ],
      "execution_count": null,
      "outputs": []
    },
    {
      "cell_type": "code",
      "metadata": {
        "id": "_t8VgV9dkMu2"
      },
      "source": [
        "combined_int_df[combined_int_df.state_cleaned == \"TBF\"]['Country'].value_counts()"
      ],
      "execution_count": null,
      "outputs": []
    },
    {
      "cell_type": "code",
      "metadata": {
        "id": "1KM2jAH379Hz"
      },
      "source": [
        "combined_int_df.to_csv('corona_dataset.csv')"
      ],
      "execution_count": null,
      "outputs": []
    },
    {
      "cell_type": "code",
      "metadata": {
        "id": "7py3PvrU79FP"
      },
      "source": [
        "combined_int_df[combined_int_df.Country==\"US\"]"
      ],
      "execution_count": null,
      "outputs": []
    },
    {
      "cell_type": "code",
      "metadata": {
        "id": "OWBq46-n79Ab"
      },
      "source": [
        "usstates_df = pd.read_csv('https://raw.githubusercontent.com/jasonong/List-of-US-States/master/states.csv')"
      ],
      "execution_count": null,
      "outputs": []
    },
    {
      "cell_type": "code",
      "metadata": {
        "id": "tNdfUsqgkMsL"
      },
      "source": [
        "usstates_df.head()"
      ],
      "execution_count": null,
      "outputs": []
    },
    {
      "cell_type": "code",
      "metadata": {
        "id": "yxQ0oV-rkMox"
      },
      "source": [
        "usstates_df=usstates_df.set_index('Abbreviation')"
      ],
      "execution_count": null,
      "outputs": []
    },
    {
      "cell_type": "code",
      "metadata": {
        "id": "809rOPkVkMkc"
      },
      "source": [
        "usstates_df.head()"
      ],
      "execution_count": null,
      "outputs": []
    },
    {
      "cell_type": "code",
      "metadata": {
        "id": "MT6iByxdMXZJ"
      },
      "source": [
        "usstates_df.loc['AZ']"
      ],
      "execution_count": null,
      "outputs": []
    },
    {
      "cell_type": "code",
      "metadata": {
        "id": "BSAhHtuCMXVz"
      },
      "source": [
        "combined_int_df['City']=combined_int_df.apply(lambda x: x['State'].split(\",\")[0] if(x['Country']==\"US\") else \"\", axis=1)"
      ],
      "execution_count": null,
      "outputs": []
    },
    {
      "cell_type": "code",
      "metadata": {
        "id": "CblRlpDvXdgg"
      },
      "source": [
        "def convert_state(state):\n",
        "  try:\n",
        "    output=state.split(\",\")[1].strip()\n",
        "    output=usstates_df.loc[output.upper()][0]\n",
        "  except:\n",
        "    output=state\n",
        "  return output  "
      ],
      "execution_count": null,
      "outputs": []
    },
    {
      "cell_type": "code",
      "metadata": {
        "id": "dW0aLMFkMXR1"
      },
      "source": [
        "combined_int_df[\"state_cleaned\"]=combined_int_df.apply(lambda x: convert_state(x['state_cleaned']) if(x['Country']==\"US\") else x['state_cleaned'], axis=1)"
      ],
      "execution_count": null,
      "outputs": []
    },
    {
      "cell_type": "code",
      "metadata": {
        "id": "xf-inZPOPGRy"
      },
      "source": [
        "combined_int_df.head(50)"
      ],
      "execution_count": null,
      "outputs": []
    },
    {
      "cell_type": "code",
      "metadata": {
        "id": "AKj-KV19PGNv"
      },
      "source": [
        "combined_int_df[combined_int_df.Country==\"US\"][0:100]"
      ],
      "execution_count": null,
      "outputs": []
    },
    {
      "cell_type": "code",
      "metadata": {
        "id": "G5pA6K-CPGJg"
      },
      "source": [
        "combined_int_df.to_csv(\"corona_dataset.csv\")"
      ],
      "execution_count": null,
      "outputs": []
    },
    {
      "cell_type": "code",
      "metadata": {
        "id": "y5RyAIQNPGAy"
      },
      "source": [
        "combined_int_df.apply(lambda x: 1 if(x['Country']==\"US\" and numpy.all(pd.notnull(x['City']))) else 0, axis=1)"
      ],
      "execution_count": null,
      "outputs": []
    },
    {
      "cell_type": "code",
      "metadata": {
        "id": "cks_wvvQWZZe"
      },
      "source": [],
      "execution_count": null,
      "outputs": []
    }
  ]
}